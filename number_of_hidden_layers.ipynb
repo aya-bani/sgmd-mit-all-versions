{
  "nbformat": 4,
  "nbformat_minor": 0,
  "metadata": {
    "colab": {
      "provenance": [],
      "authorship_tag": "ABX9TyPtoCnF3CeGcefNcapfjqe6",
      "include_colab_link": true
    },
    "kernelspec": {
      "name": "python3",
      "display_name": "Python 3"
    },
    "language_info": {
      "name": "python"
    }
  },
  "cells": [
    {
      "cell_type": "markdown",
      "metadata": {
        "id": "view-in-github",
        "colab_type": "text"
      },
      "source": [
        "<a href=\"https://colab.research.google.com/github/aya-bani/sgmd-mit-all-versions/blob/main/number_of_hidden_layers.ipynb\" target=\"_parent\"><img src=\"https://colab.research.google.com/assets/colab-badge.svg\" alt=\"Open In Colab\"/></a>"
      ]
    },
    {
      "cell_type": "code",
      "execution_count": 1,
      "metadata": {
        "colab": {
          "base_uri": "https://localhost:8080/"
        },
        "id": "CdYraGXfPfNo",
        "outputId": "d9932b47-0558-4f9f-984c-f9255c52274b"
      },
      "outputs": [
        {
          "output_type": "stream",
          "name": "stdout",
          "text": [
            "Mounted at /content/drive\n"
          ]
        }
      ],
      "source": [
        "from google.colab import drive\n",
        "drive.mount('/content/drive')"
      ]
    },
    {
      "cell_type": "code",
      "source": [
        "import numpy as np, pandas as pd, tensorflow as tf, random\n",
        "from tensorflow.keras.models import Sequential\n",
        "from tensorflow.keras.layers import Dense\n",
        "from tensorflow.keras.callbacks import EarlyStopping\n",
        "from tensorflow.keras import backend as K\n",
        "from sklearn.model_selection import train_test_split\n",
        "from sklearn.preprocessing import MinMaxScaler\n",
        "from sklearn.metrics import mean_squared_error, mean_absolute_error, r2_score\n",
        "from itertools import product\n"
      ],
      "metadata": {
        "id": "0-tPWvMzP4bn"
      },
      "execution_count": 2,
      "outputs": []
    },
    {
      "cell_type": "code",
      "source": [
        "def set_seeds(seed=42):\n",
        "    np.random.seed(seed); random.seed(seed); tf.random.set_seed(seed)\n"
      ],
      "metadata": {
        "id": "i4ywXhXLP-_O"
      },
      "execution_count": 3,
      "outputs": []
    },
    {
      "cell_type": "code",
      "source": [
        "data = pd.read_csv(\"/content/drive/MyDrive/projet mit/data.csv\", encoding=\"latin1\")\n",
        "X = data[[\"Tf_in\",\"Ua\",\"Uw\"]].values\n",
        "y = data[\"Y\"].values.reshape(-1,1)"
      ],
      "metadata": {
        "id": "8C9wwtdTQCHW"
      },
      "execution_count": 4,
      "outputs": []
    },
    {
      "cell_type": "code",
      "source": [
        "scaler_X = MinMaxScaler()\n",
        "Xs = scaler_X.fit_transform(X)\n",
        "scaler_y = MinMaxScaler(feature_range=(0.2, 0.8))\n",
        "ys = scaler_y.fit_transform(y)"
      ],
      "metadata": {
        "id": "2viSS9gPQI-9"
      },
      "execution_count": 5,
      "outputs": []
    },
    {
      "cell_type": "code",
      "source": [
        "X_train, X_temp, y_train, y_temp = train_test_split(Xs, ys, test_size=0.30, random_state=42)\n",
        "X_val,   X_test, y_val,   y_test = train_test_split(X_temp, y_temp, test_size=0.50, random_state=42)\n"
      ],
      "metadata": {
        "id": "J0ouchtUQMt2"
      },
      "execution_count": 6,
      "outputs": []
    },
    {
      "cell_type": "code",
      "source": [
        "def build_model(layers, hidden_act=\"sigmoid\", out_act=\"sigmoid\"):\n",
        "    \"\"\"\n",
        "    layers: list of neuron counts, e.g. [12,8] = 2 hidden layers\n",
        "    hidden_act: activation for hidden layers\n",
        "    out_act: activation for output (sigmoid since Y in [0.2,0.8])\n",
        "    \"\"\"\n",
        "    model = Sequential()\n",
        "    # First hidden layer\n",
        "    model.add(Dense(layers[0], input_dim=3, activation=hidden_act))\n",
        "    # Additional hidden layers\n",
        "    for n in layers[1:]:\n",
        "        model.add(Dense(n, activation=hidden_act))\n",
        "    # Output layer (1 neuron, regression)\n",
        "    model.add(Dense(1, activation=out_act))\n",
        "    model.compile(optimizer='adam', loss='mse', metrics=['mae'])\n",
        "    return model"
      ],
      "metadata": {
        "id": "c61aOyQXQWD2"
      },
      "execution_count": 7,
      "outputs": []
    },
    {
      "cell_type": "code",
      "source": [
        "def evaluate_model(model, X, y):\n",
        "    \"\"\"Return MSE, MAE, R² in original Y units.\"\"\"\n",
        "    y_pred = model.predict(X, verbose=0)\n",
        "    y_true = scaler_y.inverse_transform(y)\n",
        "    y_pred_inv = scaler_y.inverse_transform(y_pred)\n",
        "    return (\n",
        "        mean_squared_error(y_true, y_pred_inv),\n",
        "        mean_absolute_error(y_true, y_pred_inv),\n",
        "        r2_score(y_true, y_pred_inv)\n",
        "    )"
      ],
      "metadata": {
        "id": "WyqOSWmYQY8l"
      },
      "execution_count": 8,
      "outputs": []
    },
    {
      "cell_type": "code",
      "source": [
        "def sweep_layers(layer_grid, hidden_act=\"sigmoid\"):\n",
        "    results = []\n",
        "    for layers in layer_grid:\n",
        "        set_seeds(42); K.clear_session()\n",
        "        model = build_model(layers, hidden_act=hidden_act)\n",
        "\n",
        "        es = EarlyStopping(monitor='val_loss', patience=20, restore_best_weights=True)\n",
        "        hist = model.fit(X_train, y_train,\n",
        "                         validation_data=(X_val, y_val),\n",
        "                         epochs=1000, batch_size=8, verbose=0,\n",
        "                         callbacks=[es])\n",
        "\n",
        "        # Metrics\n",
        "        tr = evaluate_model(model, X_train, y_train)\n",
        "        va = evaluate_model(model, X_val,   y_val)\n",
        "        te = evaluate_model(model, X_test,  y_test)\n",
        "\n",
        "        results.append({\n",
        "            \"layers\": layers,\n",
        "            \"hidden_act\": hidden_act,\n",
        "            \"train_mse\": tr[0], \"train_mae\": tr[1], \"train_r2\": tr[2],\n",
        "            \"val_mse\": va[0],   \"val_mae\": va[1],   \"val_r2\": va[2],\n",
        "            \"test_mse\": te[0],  \"test_mae\": te[1],  \"test_r2\": te[2],\n",
        "            \"epochs_used\": len(hist.history['loss'])\n",
        "        })\n",
        "    return pd.DataFrame(results)\n"
      ],
      "metadata": {
        "id": "hgwn4ONMQgcf"
      },
      "execution_count": 9,
      "outputs": []
    },
    {
      "cell_type": "code",
      "source": [
        "# ============================\n",
        "# 7. Define search grids\n",
        "# ============================\n",
        "grid_1 = [[n] for n in range(5, 21, 3)]                 # 1 hidden layer\n",
        "grid_2 = [[n1,n2] for n1 in [20,15,10] for n2 in [15,10,5]]   # 2 hidden layers\n",
        "grid_3 = [[15,10,5], [12,8,6], [20,15,10]]                    # 3 hidden layers\n",
        "grid_4 = [[20,15,10,5], [15,12,8,5]]                          # 4 hidden layers\n",
        "\n",
        "# ============================\n",
        "# 8. Run sweeps (sigmoid hidden as baseline)\n",
        "# ============================\n",
        "print(\"Sweeping 1 hidden layer ...\")\n",
        "df1 = sweep_layers(grid_1, hidden_act=\"sigmoid\")\n",
        "\n",
        "print(\"\\nSweeping 2 hidden layers ...\")\n",
        "df2 = sweep_layers(grid_2, hidden_act=\"sigmoid\")\n",
        "\n",
        "print(\"\\nSweeping 3 hidden layers ...\")\n",
        "df3 = sweep_layers(grid_3, hidden_act=\"sigmoid\")\n",
        "\n",
        "print(\"\\nSweeping 4 hidden layers ...\")\n",
        "df4 = sweep_layers(grid_4, hidden_act=\"sigmoid\")\n",
        "\n",
        "# Combine all\n",
        "all_df = pd.concat([df1,df2,df3,df4], ignore_index=True)\n",
        "\n",
        "# Best config\n",
        "best_row = all_df.loc[all_df[\"val_mse\"].idxmin()]\n",
        "print(\"\\n=== Best architecture (1–4 hidden layers) ===\")\n",
        "print(best_row[[\"layers\",\"hidden_act\",\"val_mse\",\"val_mae\",\"val_r2\",\"test_mse\",\"test_mae\",\"test_r2\"]])\n"
      ],
      "metadata": {
        "colab": {
          "base_uri": "https://localhost:8080/"
        },
        "id": "ViQbqm9iQlf3",
        "outputId": "f4acde2d-2bbf-4426-bbcb-c1f0eecfcc7f"
      },
      "execution_count": 10,
      "outputs": [
        {
          "output_type": "stream",
          "name": "stdout",
          "text": [
            "Sweeping 1 hidden layer ...\n"
          ]
        },
        {
          "output_type": "stream",
          "name": "stderr",
          "text": [
            "/usr/local/lib/python3.12/dist-packages/keras/src/layers/core/dense.py:93: UserWarning: Do not pass an `input_shape`/`input_dim` argument to a layer. When using Sequential models, prefer using an `Input(shape)` object as the first layer in the model instead.\n",
            "  super().__init__(activity_regularizer=activity_regularizer, **kwargs)\n",
            "/usr/local/lib/python3.12/dist-packages/keras/src/layers/core/dense.py:93: UserWarning: Do not pass an `input_shape`/`input_dim` argument to a layer. When using Sequential models, prefer using an `Input(shape)` object as the first layer in the model instead.\n",
            "  super().__init__(activity_regularizer=activity_regularizer, **kwargs)\n",
            "/usr/local/lib/python3.12/dist-packages/keras/src/layers/core/dense.py:93: UserWarning: Do not pass an `input_shape`/`input_dim` argument to a layer. When using Sequential models, prefer using an `Input(shape)` object as the first layer in the model instead.\n",
            "  super().__init__(activity_regularizer=activity_regularizer, **kwargs)\n",
            "WARNING:tensorflow:5 out of the last 9 calls to <function TensorFlowTrainer.make_predict_function.<locals>.one_step_on_data_distributed at 0x797580fece00> triggered tf.function retracing. Tracing is expensive and the excessive number of tracings could be due to (1) creating @tf.function repeatedly in a loop, (2) passing tensors with different shapes, (3) passing Python objects instead of tensors. For (1), please define your @tf.function outside of the loop. For (2), @tf.function has reduce_retracing=True option that can avoid unnecessary retracing. For (3), please refer to https://www.tensorflow.org/guide/function#controlling_retracing and https://www.tensorflow.org/api_docs/python/tf/function for  more details.\n",
            "WARNING:tensorflow:6 out of the last 10 calls to <function TensorFlowTrainer.make_predict_function.<locals>.one_step_on_data_distributed at 0x797580fece00> triggered tf.function retracing. Tracing is expensive and the excessive number of tracings could be due to (1) creating @tf.function repeatedly in a loop, (2) passing tensors with different shapes, (3) passing Python objects instead of tensors. For (1), please define your @tf.function outside of the loop. For (2), @tf.function has reduce_retracing=True option that can avoid unnecessary retracing. For (3), please refer to https://www.tensorflow.org/guide/function#controlling_retracing and https://www.tensorflow.org/api_docs/python/tf/function for  more details.\n",
            "/usr/local/lib/python3.12/dist-packages/keras/src/layers/core/dense.py:93: UserWarning: Do not pass an `input_shape`/`input_dim` argument to a layer. When using Sequential models, prefer using an `Input(shape)` object as the first layer in the model instead.\n",
            "  super().__init__(activity_regularizer=activity_regularizer, **kwargs)\n",
            "/usr/local/lib/python3.12/dist-packages/keras/src/layers/core/dense.py:93: UserWarning: Do not pass an `input_shape`/`input_dim` argument to a layer. When using Sequential models, prefer using an `Input(shape)` object as the first layer in the model instead.\n",
            "  super().__init__(activity_regularizer=activity_regularizer, **kwargs)\n",
            "/usr/local/lib/python3.12/dist-packages/keras/src/layers/core/dense.py:93: UserWarning: Do not pass an `input_shape`/`input_dim` argument to a layer. When using Sequential models, prefer using an `Input(shape)` object as the first layer in the model instead.\n",
            "  super().__init__(activity_regularizer=activity_regularizer, **kwargs)\n"
          ]
        },
        {
          "output_type": "stream",
          "name": "stdout",
          "text": [
            "\n",
            "Sweeping 2 hidden layers ...\n"
          ]
        },
        {
          "output_type": "stream",
          "name": "stderr",
          "text": [
            "/usr/local/lib/python3.12/dist-packages/keras/src/layers/core/dense.py:93: UserWarning: Do not pass an `input_shape`/`input_dim` argument to a layer. When using Sequential models, prefer using an `Input(shape)` object as the first layer in the model instead.\n",
            "  super().__init__(activity_regularizer=activity_regularizer, **kwargs)\n",
            "/usr/local/lib/python3.12/dist-packages/keras/src/layers/core/dense.py:93: UserWarning: Do not pass an `input_shape`/`input_dim` argument to a layer. When using Sequential models, prefer using an `Input(shape)` object as the first layer in the model instead.\n",
            "  super().__init__(activity_regularizer=activity_regularizer, **kwargs)\n",
            "/usr/local/lib/python3.12/dist-packages/keras/src/layers/core/dense.py:93: UserWarning: Do not pass an `input_shape`/`input_dim` argument to a layer. When using Sequential models, prefer using an `Input(shape)` object as the first layer in the model instead.\n",
            "  super().__init__(activity_regularizer=activity_regularizer, **kwargs)\n",
            "/usr/local/lib/python3.12/dist-packages/keras/src/layers/core/dense.py:93: UserWarning: Do not pass an `input_shape`/`input_dim` argument to a layer. When using Sequential models, prefer using an `Input(shape)` object as the first layer in the model instead.\n",
            "  super().__init__(activity_regularizer=activity_regularizer, **kwargs)\n",
            "/usr/local/lib/python3.12/dist-packages/keras/src/layers/core/dense.py:93: UserWarning: Do not pass an `input_shape`/`input_dim` argument to a layer. When using Sequential models, prefer using an `Input(shape)` object as the first layer in the model instead.\n",
            "  super().__init__(activity_regularizer=activity_regularizer, **kwargs)\n",
            "/usr/local/lib/python3.12/dist-packages/keras/src/layers/core/dense.py:93: UserWarning: Do not pass an `input_shape`/`input_dim` argument to a layer. When using Sequential models, prefer using an `Input(shape)` object as the first layer in the model instead.\n",
            "  super().__init__(activity_regularizer=activity_regularizer, **kwargs)\n",
            "/usr/local/lib/python3.12/dist-packages/keras/src/layers/core/dense.py:93: UserWarning: Do not pass an `input_shape`/`input_dim` argument to a layer. When using Sequential models, prefer using an `Input(shape)` object as the first layer in the model instead.\n",
            "  super().__init__(activity_regularizer=activity_regularizer, **kwargs)\n",
            "/usr/local/lib/python3.12/dist-packages/keras/src/layers/core/dense.py:93: UserWarning: Do not pass an `input_shape`/`input_dim` argument to a layer. When using Sequential models, prefer using an `Input(shape)` object as the first layer in the model instead.\n",
            "  super().__init__(activity_regularizer=activity_regularizer, **kwargs)\n",
            "/usr/local/lib/python3.12/dist-packages/keras/src/layers/core/dense.py:93: UserWarning: Do not pass an `input_shape`/`input_dim` argument to a layer. When using Sequential models, prefer using an `Input(shape)` object as the first layer in the model instead.\n",
            "  super().__init__(activity_regularizer=activity_regularizer, **kwargs)\n"
          ]
        },
        {
          "output_type": "stream",
          "name": "stdout",
          "text": [
            "\n",
            "Sweeping 3 hidden layers ...\n"
          ]
        },
        {
          "output_type": "stream",
          "name": "stderr",
          "text": [
            "/usr/local/lib/python3.12/dist-packages/keras/src/layers/core/dense.py:93: UserWarning: Do not pass an `input_shape`/`input_dim` argument to a layer. When using Sequential models, prefer using an `Input(shape)` object as the first layer in the model instead.\n",
            "  super().__init__(activity_regularizer=activity_regularizer, **kwargs)\n",
            "/usr/local/lib/python3.12/dist-packages/keras/src/layers/core/dense.py:93: UserWarning: Do not pass an `input_shape`/`input_dim` argument to a layer. When using Sequential models, prefer using an `Input(shape)` object as the first layer in the model instead.\n",
            "  super().__init__(activity_regularizer=activity_regularizer, **kwargs)\n",
            "/usr/local/lib/python3.12/dist-packages/keras/src/layers/core/dense.py:93: UserWarning: Do not pass an `input_shape`/`input_dim` argument to a layer. When using Sequential models, prefer using an `Input(shape)` object as the first layer in the model instead.\n",
            "  super().__init__(activity_regularizer=activity_regularizer, **kwargs)\n"
          ]
        },
        {
          "output_type": "stream",
          "name": "stdout",
          "text": [
            "\n",
            "Sweeping 4 hidden layers ...\n"
          ]
        },
        {
          "output_type": "stream",
          "name": "stderr",
          "text": [
            "/usr/local/lib/python3.12/dist-packages/keras/src/layers/core/dense.py:93: UserWarning: Do not pass an `input_shape`/`input_dim` argument to a layer. When using Sequential models, prefer using an `Input(shape)` object as the first layer in the model instead.\n",
            "  super().__init__(activity_regularizer=activity_regularizer, **kwargs)\n",
            "/usr/local/lib/python3.12/dist-packages/keras/src/layers/core/dense.py:93: UserWarning: Do not pass an `input_shape`/`input_dim` argument to a layer. When using Sequential models, prefer using an `Input(shape)` object as the first layer in the model instead.\n",
            "  super().__init__(activity_regularizer=activity_regularizer, **kwargs)\n"
          ]
        },
        {
          "output_type": "stream",
          "name": "stdout",
          "text": [
            "\n",
            "=== Best architecture (1–4 hidden layers) ===\n",
            "layers         [10, 5]\n",
            "hidden_act     sigmoid\n",
            "val_mse       0.012836\n",
            "val_mae       0.075279\n",
            "val_r2        0.562207\n",
            "test_mse      0.003474\n",
            "test_mae      0.049921\n",
            "test_r2        0.88916\n",
            "Name: 14, dtype: object\n"
          ]
        }
      ]
    }
  ]
}